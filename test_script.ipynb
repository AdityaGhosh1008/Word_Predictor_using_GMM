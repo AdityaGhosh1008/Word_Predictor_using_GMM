{
 "cells": [
  {
   "cell_type": "code",
   "execution_count": 9,
   "metadata": {},
   "outputs": [
    {
     "name": "stdout",
     "output_type": "stream",
     "text": [
      "Current Working Directory: C:\\Users\\ghosh\\Downloads\\2020276_kaggle_assignment2\n",
      "saved_models/gmm_model_1.pkl\n",
      "saved_models/gmm_model_2.pkl\n",
      "saved_models/gmm_model_3.pkl\n",
      "saved_models/gmm_model_4.pkl\n",
      "saved_models/gmm_model_5.pkl\n",
      "saved_models/gmm_model_6.pkl\n",
      "saved_models/gmm_model_7.pkl\n",
      "saved_models/gmm_model_8.pkl\n",
      "saved_models/gmm_model_9.pkl\n",
      "saved_models/gmm_model_10.pkl\n",
      "saved_models/gmm_model_11.pkl\n",
      "saved_models/gmm_model_12.pkl\n",
      "saved_models/gmm_model_13.pkl\n",
      "saved_models/gmm_model_14.pkl\n",
      "saved_models/gmm_model_15.pkl\n",
      "saved_models/gmm_model_16.pkl\n",
      "saved_models/gmm_model_17.pkl\n",
      "saved_models/gmm_model_18.pkl\n",
      "saved_models/gmm_model_19.pkl\n",
      "saved_models/gmm_model_20.pkl\n",
      "saved_models/gmm_model_21.pkl\n",
      "saved_models/gmm_model_22.pkl\n",
      "saved_models/gmm_model_23.pkl\n",
      "saved_models/gmm_model_24.pkl\n",
      "saved_models/gmm_model_25.pkl\n",
      "saved_models/gmm_model_26.pkl\n",
      "saved_models/gmm_model_27.pkl\n",
      "saved_models/gmm_model_28.pkl\n",
      "saved_models/gmm_model_29.pkl\n",
      "saved_models/gmm_model_30.pkl\n"
     ]
    },
    {
     "name": "stderr",
     "output_type": "stream",
     "text": [
      "C:\\Users\\ghosh\\AppData\\Local\\Packages\\PythonSoftwareFoundation.Python.3.11_qbz5n2kfra8p0\\LocalCache\\local-packages\\Python311\\site-packages\\sklearn\\base.py:348: InconsistentVersionWarning: Trying to unpickle estimator GaussianMixture from version 1.3.0 when using version 1.3.2. This might lead to breaking code or invalid results. Use at your own risk. For more info please refer to:\n",
      "https://scikit-learn.org/stable/model_persistence.html#security-maintainability-limitations\n",
      "  warnings.warn(\n"
     ]
    }
   ],
   "source": [
    "import os\n",
    "import joblib\n",
    "import librosa\n",
    "import numpy as np\n",
    "from scipy.io import wavfile\n",
    "import csv\n",
    "\n",
    "\n",
    "os.chdir(os.path.dirname(os.path.realpath(\"__file__\")))\n",
    "\n",
    "\n",
    "print(\"Current Working Directory:\", os.getcwd())\n",
    "\n",
    "# Load GMM models\n",
    "gmm_models = []\n",
    "\n",
    "for i in range(1,31):\n",
    "    model_path = f\"saved_models/gmm_model_{i}.pkl\"\n",
    "    print(model_path)  # Print for debugging purposes\n",
    "\n",
    "    if os.path.exists(model_path):\n",
    "        gmm_model = joblib.load(model_path)\n",
    "        gmm_models.append(gmm_model)\n",
    "    else:\n",
    "        print(f\"Model file not found: {model_path}\")"
   ]
  },
  {
   "cell_type": "code",
   "execution_count": 3,
   "metadata": {},
   "outputs": [],
   "source": [
    "\n",
    "user_input = input(\"T for text file, P for path, C for CSV file: \")"
   ]
  },
  {
   "cell_type": "code",
   "execution_count": 6,
   "metadata": {},
   "outputs": [],
   "source": [
    "class_mapping = {'right': 0, 'eight': 1, 'cat': 2, 'tree': 3, 'bed': 4, 'happy': 5, 'go': 6, 'dog': 7, 'no': 8, 'wow': 9,\n",
    "                 'nine': 10, 'left': 11, 'stop': 12, 'three': 13, 'sheila': 14, 'one': 15, 'bird': 16, 'zero': 17,\n",
    "                 'seven': 18, 'up': 19, 'marvin': 20, 'two': 21, 'house': 22, 'down': 23, 'six': 24, 'yes': 25,\n",
    "                 'on': 26, 'five': 27, 'off': 28, 'four': 29}\n",
    "fclass_mapping = {v: k for k, v in class_mapping.items()}"
   ]
  },
  {
   "cell_type": "code",
   "execution_count": 8,
   "metadata": {},
   "outputs": [
    {
     "name": "stdout",
     "output_type": "stream",
     "text": [
      "File paths read successfully.\n",
      "5 happy\n",
      "5 happy\n",
      "24 six\n"
     ]
    }
   ],
   "source": [
    "inp=input(\"Y if file from speech command test else N: \")\n",
    "if user_input == \"T\" or user_input == \"t\":\n",
    "    file_path = input(\"Enter the path to the text file: \").strip('\"')\n",
    "    try:\n",
    "        with open(file_path, \"r\") as f:\n",
    "            file_paths = f.readlines()\n",
    "            file_paths = [x.strip() for x in file_paths]\n",
    "        print(\"File paths read successfully.\")\n",
    "        if(inp==\"Y\" or inp==\"y\"):\n",
    "            file_paths = [f\"C:\\\\Users\\\\ghosh\\\\Downloads\\\\SpeechCommandTest-20231114T162637Z-001\\\\SpeechCommandTest\\\\{x}\" for x in file_paths]\n",
    "        ans_prob=[]\n",
    "        for j in file_paths:\n",
    "            temp_prob=[]\n",
    "            for i in gmm_models:\n",
    "                sample_rate, audio = wavfile.read(j)\n",
    "                audio = audio.astype(np.float32)\n",
    "                mfccs = librosa.feature.mfcc(y=audio, sr=sample_rate, n_mfcc=13)\n",
    "                delta_mfccs = librosa.feature.delta(mfccs)\n",
    "\n",
    "                delta2_mfccs = librosa.feature.delta(mfccs, order=2)\n",
    "\n",
    "                combined_features = np.concatenate((mfccs, delta_mfccs))\n",
    "                combined_features = np.concatenate((combined_features, delta2_mfccs))\n",
    "                features=combined_features.transpose()\n",
    "                temp_prob.append(i.score(features))\n",
    "            ans_prob.append(temp_prob.index(max(temp_prob)))\n",
    "        for i in ans_prob:\n",
    "            print(str(i-1)+\" \"+fclass_mapping[i-1])          \n",
    "    except OSError as e:\n",
    "        print(f\"Error reading file: {e}\")\n",
    "elif(user_input == \"P\" or user_input == \"p\"):\n",
    "    file_path = input(\"Enter the path to the folder: \")\n",
    "    temp_prob=[]\n",
    "    for i in gmm_models:\n",
    "        sample_rate, audio = wavfile.read(file_path)\n",
    "        audio = audio.astype(np.float32)\n",
    "        mfccs = librosa.feature.mfcc(y=audio, sr=sample_rate, n_mfcc=13)\n",
    "        delta_mfccs = librosa.feature.delta(mfccs)\n",
    "\n",
    "        delta2_mfccs = librosa.feature.delta(mfccs, order=2)\n",
    "\n",
    "        combined_features = np.concatenate((mfccs, delta_mfccs))\n",
    "        combined_features = np.concatenate((combined_features, delta2_mfccs))\n",
    "        features=combined_features.transpose()\n",
    "        temp_prob.append(i.score(features))\n",
    "            \n",
    "    print(str(temp_prob.index(max(temp_prob)-1))+\" \"+fclass_mapping[temp_prob.index(max(temp_prob)-1)])\n",
    "elif(user_input == \"C\" or user_input == \"c\"):\n",
    "    file_path = input(\"Enter the path to the CSV file: \").strip('\"')\n",
    "    print(file_path)\n",
    "    with open(file_path, 'r') as csv_file:\n",
    "            csv_reader = csv.DictReader(csv_file)\n",
    "\n",
    "            # Assuming 'AUDIO_FILE' column exists in the CSV\n",
    "            file_paths = [row['AUDIO_FILE'] for row in csv_reader]\n",
    "            if(inp==\"Y\" or inp==\"y\"):\n",
    "                file_paths = [f\"C:\\\\Users\\\\ghosh\\\\Downloads\\\\SpeechCommandTest-20231114T162637Z-001\\\\SpeechCommandTest\\\\{x}\" for x in file_paths]\n",
    "            ans_prob = []\n",
    "\n",
    "            for j in file_paths:\n",
    "                temp_prob = []\n",
    "\n",
    "                for i in gmm_models:\n",
    "                    sample_rate, audio = wavfile.read(j)\n",
    "                    audio = audio.astype(np.float32)\n",
    "                    mfccs = librosa.feature.mfcc(y=audio, sr=sample_rate, n_mfcc=13)\n",
    "                    delta_mfccs = librosa.feature.delta(mfccs)\n",
    "\n",
    "                    delta2_mfccs = librosa.feature.delta(mfccs, order=2)\n",
    "\n",
    "                    combined_features = np.concatenate((mfccs, delta_mfccs))\n",
    "                    combined_features = np.concatenate((combined_features, delta2_mfccs))\n",
    "                    features = combined_features.transpose()\n",
    "                    temp_prob.append(i.score(features))\n",
    "\n",
    "                ans_prob.append(temp_prob.index(max(temp_prob)))\n",
    "\n",
    "            for i in ans_prob:\n",
    "                print(str(i-1) + \" \" + fclass_mapping[i-1])"
   ]
  }
 ],
 "metadata": {
  "colab": {
   "provenance": []
  },
  "kernelspec": {
   "display_name": "Python 3 (ipykernel)",
   "language": "python",
   "name": "python3"
  },
  "language_info": {
   "codemirror_mode": {
    "name": "ipython",
    "version": 3
   },
   "file_extension": ".py",
   "mimetype": "text/x-python",
   "name": "python",
   "nbconvert_exporter": "python",
   "pygments_lexer": "ipython3",
   "version": "3.11.6"
  }
 },
 "nbformat": 4,
 "nbformat_minor": 1
}
